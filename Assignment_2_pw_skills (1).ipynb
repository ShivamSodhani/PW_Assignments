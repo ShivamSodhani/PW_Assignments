{
  "nbformat": 4,
  "nbformat_minor": 0,
  "metadata": {
    "colab": {
      "provenance": []
    },
    "kernelspec": {
      "name": "python3",
      "display_name": "Python 3"
    },
    "language_info": {
      "name": "python"
    }
  },
  "cells": [
    {
      "cell_type": "markdown",
      "source": [
        "Data Type and Structures Questions"
      ],
      "metadata": {
        "id": "5pWjFb7Ts7p8"
      }
    },
    {
      "cell_type": "markdown",
      "source": [
        "Q 1 .  What are data structures, and why are they important ?\n",
        "\n",
        "Answer -\n",
        "\n",
        "- Data structures are specialized formats for organizing, storing, and managing data so it can be used efficiently in a computer program.\n",
        "\n",
        " Whya are they important\n",
        "\n",
        "-  they are important beacuse they give better efficiency , better searching , clean code and reusability .\n",
        "\n",
        "\n",
        "\n"
      ],
      "metadata": {
        "id": "55lCaIpbtFba"
      }
    },
    {
      "cell_type": "markdown",
      "source": [
        "Q2   Explain the difference between mutable and immutable data types with examples ?\n",
        "\n",
        "Answer .\n",
        "\n",
        "- Mutable  -\n",
        "\n",
        "  Mutable means the object can be changed after it is created.\n",
        "\n",
        "  You can modify, add, or remove elements without changing the object’s identity\n",
        "\n",
        "  ex = list , data , set\n",
        "\n",
        "- immutable -\n",
        "  \n",
        "  Immutable means the object cannot be changed after it is created.\n",
        "\n",
        "  Any modification will create a new object in memory\n",
        "\n",
        "  ex = tuple , str , int\n",
        "\n",
        "\n"
      ],
      "metadata": {
        "id": "B0MlXFEfuLfZ"
      }
    },
    {
      "cell_type": "code",
      "source": [
        "# mutable\n",
        "\n",
        "my_list = [1, 2, 3]\n",
        "my_list.append(4)\n",
        "print(my_list)\n"
      ],
      "metadata": {
        "colab": {
          "base_uri": "https://localhost:8080/"
        },
        "id": "bQ7q9Vf8uuiR",
        "outputId": "e29b7f6d-9e4b-402c-f968-10e9cb737b84"
      },
      "execution_count": null,
      "outputs": [
        {
          "output_type": "stream",
          "name": "stdout",
          "text": [
            "[1, 2, 3, 4]\n"
          ]
        }
      ]
    },
    {
      "cell_type": "code",
      "execution_count": null,
      "metadata": {
        "colab": {
          "base_uri": "https://localhost:8080/",
          "height": 201
        },
        "id": "qTwe9Au2swtL",
        "outputId": "597551ad-eac9-4114-ccb9-6c5c52362d2f"
      },
      "outputs": [
        {
          "output_type": "error",
          "ename": "AttributeError",
          "evalue": "'str' object has no attribute 'append'",
          "traceback": [
            "\u001b[0;31m---------------------------------------------------------------------------\u001b[0m",
            "\u001b[0;31mAttributeError\u001b[0m                            Traceback (most recent call last)",
            "\u001b[0;32m/tmp/ipython-input-3-3470093533.py\u001b[0m in \u001b[0;36m<cell line: 0>\u001b[0;34m()\u001b[0m\n\u001b[1;32m      2\u001b[0m \u001b[0;34m\u001b[0m\u001b[0m\n\u001b[1;32m      3\u001b[0m \u001b[0mmy_str\u001b[0m \u001b[0;34m=\u001b[0m \u001b[0;34m\"hello\"\u001b[0m\u001b[0;34m\u001b[0m\u001b[0;34m\u001b[0m\u001b[0m\n\u001b[0;32m----> 4\u001b[0;31m \u001b[0mmy_str\u001b[0m\u001b[0;34m.\u001b[0m\u001b[0mappend\u001b[0m\u001b[0;34m(\u001b[0m\u001b[0;34m\"shivam\"\u001b[0m\u001b[0;34m)\u001b[0m\u001b[0;34m\u001b[0m\u001b[0;34m\u001b[0m\u001b[0m\n\u001b[0m\u001b[1;32m      5\u001b[0m \u001b[0mprint\u001b[0m\u001b[0;34m(\u001b[0m\u001b[0mmy_str\u001b[0m \u001b[0;34m+\u001b[0m \u001b[0;34m\"shivam\"\u001b[0m\u001b[0;34m)\u001b[0m\u001b[0;34m\u001b[0m\u001b[0;34m\u001b[0m\u001b[0m\n",
            "\u001b[0;31mAttributeError\u001b[0m: 'str' object has no attribute 'append'"
          ]
        }
      ],
      "source": [
        "# immutable\n",
        "\n",
        "my_str = \"hello\"\n",
        "my_str.append(\"shivam\")\n",
        "print(my_str + \"shivam\")"
      ]
    },
    {
      "cell_type": "markdown",
      "source": [
        "Q3 What are the main differences between lists and tuples in Python ?\n",
        "\n",
        "Answer -\n",
        "\n",
        " Lists -\n",
        "\n",
        "-  always use [  ]\n",
        "\n",
        "- lists are used to define a set of string\n",
        "- these are mutable (can be change )\n",
        "- \tHas many (e.g., .append(), .remove())\n",
        "\n",
        "Tuples -\n",
        "\n",
        "-  always use ( )\n",
        "-   Immutable (cannot be changed)\n",
        "- Fewer methods (e.g., .count(), .index()\n",
        "\n",
        "\n",
        "\n",
        "\n"
      ],
      "metadata": {
        "id": "MMURFIqmvi0M"
      }
    },
    {
      "cell_type": "code",
      "source": [
        "# list\n",
        "\n",
        "my_list = [\" pw skills \" , \" shivam \" , \"rahul \"]\n",
        "len(my_list)"
      ],
      "metadata": {
        "colab": {
          "base_uri": "https://localhost:8080/"
        },
        "id": "dgL_pIrSwt2v",
        "outputId": "3a6f5b07-036c-44f7-dd66-afc58588d4b2"
      },
      "execution_count": null,
      "outputs": [
        {
          "output_type": "execute_result",
          "data": {
            "text/plain": [
              "3"
            ]
          },
          "metadata": {},
          "execution_count": 16
        }
      ]
    },
    {
      "cell_type": "code",
      "source": [
        "my_list.append(\"sodhani\")"
      ],
      "metadata": {
        "id": "FdYCzg3Lw-i7"
      },
      "execution_count": null,
      "outputs": []
    },
    {
      "cell_type": "code",
      "source": [
        "my_list"
      ],
      "metadata": {
        "colab": {
          "base_uri": "https://localhost:8080/"
        },
        "id": "Q9V5IEtzxgAc",
        "outputId": "e2786733-017b-4967-8c21-bf7dfefdf1ee"
      },
      "execution_count": null,
      "outputs": [
        {
          "output_type": "execute_result",
          "data": {
            "text/plain": [
              "[' pw skills ', ' shivam ', 'rahul ', 'sodhani']"
            ]
          },
          "metadata": {},
          "execution_count": 18
        }
      ]
    },
    {
      "cell_type": "code",
      "source": [
        "# tuples\n",
        "\n",
        "my_tuples = (\" pw skills \" , \" shivam \" , \"rahul \")\n",
        "len(my_tuples)"
      ],
      "metadata": {
        "colab": {
          "base_uri": "https://localhost:8080/"
        },
        "id": "PFcYPKoSxgDx",
        "outputId": "3251d9cf-56a3-4ca3-cac4-4f7ae8fe66fb"
      },
      "execution_count": null,
      "outputs": [
        {
          "output_type": "execute_result",
          "data": {
            "text/plain": [
              "3"
            ]
          },
          "metadata": {},
          "execution_count": 19
        }
      ]
    },
    {
      "cell_type": "code",
      "source": [
        "type(my_tuples)"
      ],
      "metadata": {
        "colab": {
          "base_uri": "https://localhost:8080/"
        },
        "id": "aTjP5UhjxgG6",
        "outputId": "9a02e610-cc81-4bb4-8463-09c1b321f069"
      },
      "execution_count": null,
      "outputs": [
        {
          "output_type": "execute_result",
          "data": {
            "text/plain": [
              "tuple"
            ]
          },
          "metadata": {},
          "execution_count": 20
        }
      ]
    },
    {
      "cell_type": "code",
      "source": [
        "my_tuples.append(\"sodhani\")"
      ],
      "metadata": {
        "colab": {
          "base_uri": "https://localhost:8080/",
          "height": 146
        },
        "id": "zHw0Qjl3xuNv",
        "outputId": "0ea072df-d795-4094-c2ba-0ae87464649f"
      },
      "execution_count": null,
      "outputs": [
        {
          "output_type": "error",
          "ename": "AttributeError",
          "evalue": "'tuple' object has no attribute 'append'",
          "traceback": [
            "\u001b[0;31m---------------------------------------------------------------------------\u001b[0m",
            "\u001b[0;31mAttributeError\u001b[0m                            Traceback (most recent call last)",
            "\u001b[0;32m/tmp/ipython-input-21-1563512889.py\u001b[0m in \u001b[0;36m<cell line: 0>\u001b[0;34m()\u001b[0m\n\u001b[0;32m----> 1\u001b[0;31m \u001b[0mmy_tuples\u001b[0m\u001b[0;34m.\u001b[0m\u001b[0mappend\u001b[0m\u001b[0;34m(\u001b[0m\u001b[0;34m\"sodhani\"\u001b[0m\u001b[0;34m)\u001b[0m\u001b[0;34m\u001b[0m\u001b[0;34m\u001b[0m\u001b[0m\n\u001b[0m",
            "\u001b[0;31mAttributeError\u001b[0m: 'tuple' object has no attribute 'append'"
          ]
        }
      ]
    },
    {
      "cell_type": "markdown",
      "source": [
        "Q 4 Describe how dictionaries store data ?\n",
        "\n",
        "Answer -\n",
        "\n",
        "- In Python, a dictionary is an unordered, mutable collection of key-value pairs."
      ],
      "metadata": {
        "id": "V5OqgSL0x19Q"
      }
    },
    {
      "cell_type": "code",
      "source": [
        "my_dict = {\"name\": \"Shivam\",\"age\": 21,\"course\": \"Pharm.D\"}\n"
      ],
      "metadata": {
        "id": "dx5Lk9JiyiHf"
      },
      "execution_count": null,
      "outputs": []
    },
    {
      "cell_type": "code",
      "source": [
        "print(my_dict)"
      ],
      "metadata": {
        "colab": {
          "base_uri": "https://localhost:8080/"
        },
        "id": "qPGaWDbiyzZ6",
        "outputId": "d688186c-6e7e-4c55-b1df-2e7830e63d90"
      },
      "execution_count": null,
      "outputs": [
        {
          "output_type": "stream",
          "name": "stdout",
          "text": [
            "{'name': 'Shivam', 'age': 21, 'course': 'Pharm.D'}\n"
          ]
        }
      ]
    },
    {
      "cell_type": "markdown",
      "source": [
        "Q 5 . Why might you use a set instead of a list in Python ?\n",
        "\n",
        "Answer -\n",
        "\n",
        "- set - remove duplicate automatically\n",
        "- list - allow duplicates\n",
        "\n",
        "examples are given below"
      ],
      "metadata": {
        "id": "G_DQhFaRznPS"
      }
    },
    {
      "cell_type": "code",
      "source": [
        "set = {1,2,3,4,4 , 5 , 5,\"pw skills\" }"
      ],
      "metadata": {
        "id": "-xSsGSp-0DN-"
      },
      "execution_count": null,
      "outputs": []
    },
    {
      "cell_type": "code",
      "source": [
        "print(set)"
      ],
      "metadata": {
        "colab": {
          "base_uri": "https://localhost:8080/"
        },
        "id": "b5_rN9QOzmrs",
        "outputId": "bf9dab4c-291f-435b-f48b-e2de345c7ad6"
      },
      "execution_count": null,
      "outputs": [
        {
          "output_type": "stream",
          "name": "stdout",
          "text": [
            "{1, 2, 3, 4, 5, 'pw skills'}\n"
          ]
        }
      ]
    },
    {
      "cell_type": "code",
      "source": [
        "list = [1,2,3,4,4,5,5,\"pw skills\" ]"
      ],
      "metadata": {
        "id": "1mFc4h_k0RRY"
      },
      "execution_count": null,
      "outputs": []
    },
    {
      "cell_type": "code",
      "source": [
        "print(list)"
      ],
      "metadata": {
        "colab": {
          "base_uri": "https://localhost:8080/"
        },
        "id": "9sFDqSTw0RN7",
        "outputId": "74ae5693-e7e1-48c7-86dc-9c6cc21951a2"
      },
      "execution_count": null,
      "outputs": [
        {
          "output_type": "stream",
          "name": "stdout",
          "text": [
            "[1, 2, 3, 4, 4, 5, 5, 'pw skills']\n"
          ]
        }
      ]
    },
    {
      "cell_type": "markdown",
      "source": [
        "Q 6 .  What is a string in Python, and how is it different from a list ?\n",
        "\n",
        "Answers -\n",
        "\n",
        "String =  use of { } is take place for string\n",
        "\n",
        "- A string in Python is a sequence of characters enclosed in single ('), double (\"), or triple quotes (''' or \"\"\")."
      ],
      "metadata": {
        "id": "iUPkdXss08C7"
      }
    },
    {
      "cell_type": "code",
      "source": [
        "# string\n",
        "\n",
        "my_string = \"shivam \" , 21\n",
        "print(\"my name is \" , {name} , \"my age is\", {age})"
      ],
      "metadata": {
        "colab": {
          "base_uri": "https://localhost:8080/"
        },
        "id": "87b8NGW-1Taq",
        "outputId": "6f2635a2-92cd-433f-e8e5-1d9a7fb359ba"
      },
      "execution_count": null,
      "outputs": [
        {
          "output_type": "stream",
          "name": "stdout",
          "text": [
            "my name is  {'shivam'} my age is {21}\n"
          ]
        }
      ]
    },
    {
      "cell_type": "markdown",
      "source": [
        "list = use of [ ]\n",
        "\n",
        "- A list is an ordered collection of elements, which can be of any data type — numbers, strings, even other lists. Lists are mutable, so they can be changed after creation.\n",
        "\n",
        "- Any data type (int, str, float, etc.)"
      ],
      "metadata": {
        "id": "jUCTeIll1-k7"
      }
    },
    {
      "cell_type": "code",
      "source": [
        "my_list = \"pw skills \" , \" shivam \" , 1 , 2"
      ],
      "metadata": {
        "id": "PbIRgovT2KVg"
      },
      "execution_count": null,
      "outputs": []
    },
    {
      "cell_type": "code",
      "source": [
        "my_list"
      ],
      "metadata": {
        "colab": {
          "base_uri": "https://localhost:8080/"
        },
        "id": "EcrEdqBb2l4y",
        "outputId": "3cc053ef-9f1e-4443-b0e0-c12dfa9e4d1d"
      },
      "execution_count": null,
      "outputs": [
        {
          "output_type": "execute_result",
          "data": {
            "text/plain": [
              "('pw skills ', ' shivam ', 1, 2)"
            ]
          },
          "metadata": {},
          "execution_count": 55
        }
      ]
    },
    {
      "cell_type": "markdown",
      "source": [
        "Q 7 .  How do tuples ensure data integrity in Python"
      ],
      "metadata": {
        "id": "4LhRfv2529RB"
      }
    },
    {
      "cell_type": "markdown",
      "source": [
        "In Python , tuples help keep your data safe and consistent because they are **immutable**—once you create a tuple, you can’t change it. You can’t add, remove, or modify its elements. This makes tuples perfect for storing things that shouldn’t be changed by mistake, like settings, coordinates, or constant values that your program depends on.\n"
      ],
      "metadata": {
        "id": "4pSsyCAY3E65"
      }
    },
    {
      "cell_type": "markdown",
      "source": [
        "Q 8 What is a hash table, and how does it relate to dictionaries in Python ?\n",
        "\n",
        "Answer -\n",
        "\n",
        "\n",
        "\n"
      ],
      "metadata": {
        "id": "zDtoQ-at3ZyA"
      }
    },
    {
      "cell_type": "markdown",
      "source": [
        "Q 9 - Can lists contain different data types in Python ?\n",
        "\n",
        "Answer -\n",
        "\n",
        "- yes list contain diff data types in python"
      ],
      "metadata": {
        "id": "N1DpFy_h3r5D"
      }
    },
    {
      "cell_type": "code",
      "source": [
        "my_list = [10, \"hello\", 3.14, True, [1, 2], {\"name\": \"Shivam\"}, None]\n"
      ],
      "metadata": {
        "id": "Jxc5LFaf3_Mp"
      },
      "execution_count": null,
      "outputs": []
    },
    {
      "cell_type": "code",
      "source": [
        "type(my_list)"
      ],
      "metadata": {
        "colab": {
          "base_uri": "https://localhost:8080/"
        },
        "id": "sRS81zQ44Ar9",
        "outputId": "83119b24-693e-4513-9bc7-70a3c67512d3"
      },
      "execution_count": null,
      "outputs": [
        {
          "output_type": "execute_result",
          "data": {
            "text/plain": [
              "list"
            ]
          },
          "metadata": {},
          "execution_count": 60
        }
      ]
    },
    {
      "cell_type": "code",
      "source": [
        "type(10)"
      ],
      "metadata": {
        "colab": {
          "base_uri": "https://localhost:8080/"
        },
        "id": "PTCjN8Lw4FZz",
        "outputId": "12d3669f-f73a-4dcb-c856-0f15f18c9871"
      },
      "execution_count": null,
      "outputs": [
        {
          "output_type": "execute_result",
          "data": {
            "text/plain": [
              "int"
            ]
          },
          "metadata": {},
          "execution_count": 61
        }
      ]
    },
    {
      "cell_type": "code",
      "source": [
        "type(\"hello\")"
      ],
      "metadata": {
        "colab": {
          "base_uri": "https://localhost:8080/"
        },
        "id": "XvEQGcW54HRG",
        "outputId": "ea93941e-c842-4c92-fa6e-f18e74c2269e"
      },
      "execution_count": null,
      "outputs": [
        {
          "output_type": "execute_result",
          "data": {
            "text/plain": [
              "str"
            ]
          },
          "metadata": {},
          "execution_count": 62
        }
      ]
    },
    {
      "cell_type": "code",
      "source": [
        "type(3.14)"
      ],
      "metadata": {
        "colab": {
          "base_uri": "https://localhost:8080/"
        },
        "id": "UzZh8HxU4Ko9",
        "outputId": "a41ea4cf-e960-409d-ec50-1b3641fd2904"
      },
      "execution_count": null,
      "outputs": [
        {
          "output_type": "execute_result",
          "data": {
            "text/plain": [
              "float"
            ]
          },
          "metadata": {},
          "execution_count": 63
        }
      ]
    },
    {
      "cell_type": "code",
      "source": [
        "type(True)"
      ],
      "metadata": {
        "colab": {
          "base_uri": "https://localhost:8080/"
        },
        "id": "BA4EAEsA4NbL",
        "outputId": "db7298ef-91ad-4806-8857-4a8cb43acf9c"
      },
      "execution_count": null,
      "outputs": [
        {
          "output_type": "execute_result",
          "data": {
            "text/plain": [
              "bool"
            ]
          },
          "metadata": {},
          "execution_count": 64
        }
      ]
    },
    {
      "cell_type": "code",
      "source": [
        "type([1 , 2])"
      ],
      "metadata": {
        "colab": {
          "base_uri": "https://localhost:8080/"
        },
        "id": "9pmYhs0K4QJL",
        "outputId": "2117a20a-2be1-4392-e537-a48bdfe62e12"
      },
      "execution_count": null,
      "outputs": [
        {
          "output_type": "execute_result",
          "data": {
            "text/plain": [
              "list"
            ]
          },
          "metadata": {},
          "execution_count": 65
        }
      ]
    },
    {
      "cell_type": "code",
      "source": [
        "type({\"name\": \"Shivam\"})"
      ],
      "metadata": {
        "colab": {
          "base_uri": "https://localhost:8080/"
        },
        "id": "QctzmGVY4S9G",
        "outputId": "c3c49b00-f98e-492d-f4c3-775792e621af"
      },
      "execution_count": null,
      "outputs": [
        {
          "output_type": "execute_result",
          "data": {
            "text/plain": [
              "dict"
            ]
          },
          "metadata": {},
          "execution_count": 66
        }
      ]
    },
    {
      "cell_type": "markdown",
      "source": [
        "Q 10 Explain why strings are immutable in Python ?\n",
        "\n",
        "Answer -\n",
        "\n",
        "\n",
        "\n",
        "\n"
      ],
      "metadata": {
        "id": "cMwselyJ4noO"
      }
    },
    {
      "cell_type": "code",
      "source": [
        "my_string = { \"pw skills \" , \" shivam \" , \" sodhani \"}"
      ],
      "metadata": {
        "id": "cHn8HQ1m5Dj_"
      },
      "execution_count": null,
      "outputs": []
    },
    {
      "cell_type": "code",
      "source": [
        "my_string.append(\"rahul \")"
      ],
      "metadata": {
        "colab": {
          "base_uri": "https://localhost:8080/",
          "height": 146
        },
        "id": "LK0bq1BA5S5o",
        "outputId": "06f80c59-8279-478c-b530-f55ac7a69332"
      },
      "execution_count": null,
      "outputs": [
        {
          "output_type": "error",
          "ename": "AttributeError",
          "evalue": "'set' object has no attribute 'append'",
          "traceback": [
            "\u001b[0;31m---------------------------------------------------------------------------\u001b[0m",
            "\u001b[0;31mAttributeError\u001b[0m                            Traceback (most recent call last)",
            "\u001b[0;32m/tmp/ipython-input-68-3197852057.py\u001b[0m in \u001b[0;36m<cell line: 0>\u001b[0;34m()\u001b[0m\n\u001b[0;32m----> 1\u001b[0;31m \u001b[0mmy_string\u001b[0m\u001b[0;34m.\u001b[0m\u001b[0mappend\u001b[0m\u001b[0;34m(\u001b[0m\u001b[0;34m\"rahul \"\u001b[0m\u001b[0;34m)\u001b[0m\u001b[0;34m\u001b[0m\u001b[0;34m\u001b[0m\u001b[0m\n\u001b[0m",
            "\u001b[0;31mAttributeError\u001b[0m: 'set' object has no attribute 'append'"
          ]
        }
      ]
    },
    {
      "cell_type": "code",
      "source": [
        "# example of list\n",
        "\n",
        "my_list = [  \"pw skills \" , \" shivam \" , \" sodhani\"]\n",
        "my_list.append(\"rahul\")\n",
        "print(my_list)"
      ],
      "metadata": {
        "colab": {
          "base_uri": "https://localhost:8080/"
        },
        "id": "irjWkGGB5Zie",
        "outputId": "b8dae7b9-14a4-4b7c-ed94-71611bbcb8cd"
      },
      "execution_count": null,
      "outputs": [
        {
          "output_type": "stream",
          "name": "stdout",
          "text": [
            "['pw skills ', ' shivam ', ' sodhani', 'rahul']\n"
          ]
        }
      ]
    },
    {
      "cell_type": "markdown",
      "source": [
        "Q 11 .  What advantages do dictionaries offer over lists for certain tasks ?\n",
        "\n",
        "Answer -\n"
      ],
      "metadata": {
        "id": "QqRp6OnB5r90"
      }
    },
    {
      "cell_type": "code",
      "source": [
        "student = {\"name\": \"Shivam\", \"age\": 21, \"course\": \"Pharm.D\"}\n",
        "print(student[\"course\"])  # Output: Pharm.D (Clear and readable)\n"
      ],
      "metadata": {
        "colab": {
          "base_uri": "https://localhost:8080/"
        },
        "id": "g1b6iSBS6NdA",
        "outputId": "d33d45a9-68b6-46ae-d903-ec6fce35fb42"
      },
      "execution_count": null,
      "outputs": [
        {
          "output_type": "stream",
          "name": "stdout",
          "text": [
            "Pharm.D\n"
          ]
        }
      ]
    },
    {
      "cell_type": "code",
      "source": [
        "# list\n",
        "\n",
        "student = [\"Shivam\", 21, \"Pharm.D\"]\n",
        "# What does student[2] mean? (Unclear)\n"
      ],
      "metadata": {
        "id": "84Wu37v76djw"
      },
      "execution_count": null,
      "outputs": []
    },
    {
      "cell_type": "markdown",
      "source": [
        "Q 12 - Describe a scenario where using a tuple would be preferable over a list ?\n",
        "\n",
        "Answer -\n",
        "\n",
        "- A tuple is preferable over a list in a scenario where data should not be modified after creation — in other words, when immutability is desired ."
      ],
      "metadata": {
        "id": "KStegB6Xl8d7"
      }
    },
    {
      "cell_type": "code",
      "source": [
        "# if you want a accurate value of data without any change\n",
        "\n",
        "my_list = (28.16 , 29.30)   # these are values which are cannot be changed\n"
      ],
      "metadata": {
        "id": "TWkceGskmUZ8"
      },
      "execution_count": null,
      "outputs": []
    },
    {
      "cell_type": "code",
      "source": [
        "type(my_list)"
      ],
      "metadata": {
        "colab": {
          "base_uri": "https://localhost:8080/"
        },
        "id": "ay4GXADXmF6l",
        "outputId": "5dd7a803-8108-4913-f139-6393ff5d4b0f"
      },
      "execution_count": null,
      "outputs": [
        {
          "output_type": "execute_result",
          "data": {
            "text/plain": [
              "tuple"
            ]
          },
          "metadata": {},
          "execution_count": 2
        }
      ]
    },
    {
      "cell_type": "code",
      "source": [
        "my_list.append(29.56)"
      ],
      "metadata": {
        "colab": {
          "base_uri": "https://localhost:8080/",
          "height": 141
        },
        "id": "2ZD2a8BDm1Nh",
        "outputId": "0138c934-1753-4e0c-9bac-4d525d3d0c5e"
      },
      "execution_count": null,
      "outputs": [
        {
          "output_type": "error",
          "ename": "AttributeError",
          "evalue": "'tuple' object has no attribute 'append'",
          "traceback": [
            "\u001b[0;31m---------------------------------------------------------------------------\u001b[0m",
            "\u001b[0;31mAttributeError\u001b[0m                            Traceback (most recent call last)",
            "\u001b[0;32m/tmp/ipython-input-3-600427811.py\u001b[0m in \u001b[0;36m<cell line: 0>\u001b[0;34m()\u001b[0m\n\u001b[0;32m----> 1\u001b[0;31m \u001b[0mmy_list\u001b[0m\u001b[0;34m.\u001b[0m\u001b[0mappend\u001b[0m\u001b[0;34m(\u001b[0m\u001b[0;36m29.56\u001b[0m\u001b[0;34m)\u001b[0m\u001b[0;34m\u001b[0m\u001b[0;34m\u001b[0m\u001b[0m\n\u001b[0m",
            "\u001b[0;31mAttributeError\u001b[0m: 'tuple' object has no attribute 'append'"
          ]
        }
      ]
    },
    {
      "cell_type": "markdown",
      "source": [
        "Q13 How do sets handle duplicate values in Python ?\n",
        "\n",
        "Answers -\n",
        "\n",
        "- sets automatically remove duplicate values — they only store unique elements."
      ],
      "metadata": {
        "id": "FlHjqjvDnE3W"
      }
    },
    {
      "cell_type": "code",
      "source": [
        "my_set = { 1 , 2 , 3,3 , 4 , 4 ,5 , 6, 6 ,7 }"
      ],
      "metadata": {
        "id": "Q6JTUYenm05F"
      },
      "execution_count": null,
      "outputs": []
    },
    {
      "cell_type": "code",
      "source": [
        "my_set"
      ],
      "metadata": {
        "colab": {
          "base_uri": "https://localhost:8080/"
        },
        "id": "L4_kC948nXXp",
        "outputId": "6d4597e4-3e51-48ce-9ca0-8a04e4cc65a4"
      },
      "execution_count": null,
      "outputs": [
        {
          "output_type": "execute_result",
          "data": {
            "text/plain": [
              "{1, 2, 3, 4, 5, 6, 7}"
            ]
          },
          "metadata": {},
          "execution_count": 5
        }
      ]
    },
    {
      "cell_type": "markdown",
      "source": [
        "Q14 How does the “in” keyword work differently for lists and dictionaries ?\n",
        "\n",
        "Answer -"
      ],
      "metadata": {
        "id": "6oJ7q7O_neQf"
      }
    },
    {
      "cell_type": "code",
      "source": [
        "# in keyword for list\n",
        "my_list = [10 , 20 , 30]\n",
        "print(20 in my_list)"
      ],
      "metadata": {
        "colab": {
          "base_uri": "https://localhost:8080/"
        },
        "id": "vveXu3HUnlCR",
        "outputId": "6913ca3e-5d13-4727-ba97-87f434993c40"
      },
      "execution_count": null,
      "outputs": [
        {
          "output_type": "stream",
          "name": "stdout",
          "text": [
            "True\n"
          ]
        }
      ]
    },
    {
      "cell_type": "code",
      "source": [
        "print(50 in my_list)"
      ],
      "metadata": {
        "colab": {
          "base_uri": "https://localhost:8080/"
        },
        "id": "xjDhkkxGn7Ji",
        "outputId": "0c32ae73-408f-4546-9271-675856f7a27a"
      },
      "execution_count": null,
      "outputs": [
        {
          "output_type": "stream",
          "name": "stdout",
          "text": [
            "False\n"
          ]
        }
      ]
    },
    {
      "cell_type": "code",
      "source": [
        "# in keyword for dictionaries\n",
        "my_dict = {\"name\": \"Shivam\", \"age\": 21, \"course\": \"Pharm.D\"}\n",
        "print(\"name\" in my_dict)"
      ],
      "metadata": {
        "colab": {
          "base_uri": "https://localhost:8080/"
        },
        "id": "rwJh38XNoDov",
        "outputId": "7ef81635-94e2-4e3c-885e-0093cb31b31f"
      },
      "execution_count": null,
      "outputs": [
        {
          "output_type": "stream",
          "name": "stdout",
          "text": [
            "True\n"
          ]
        }
      ]
    },
    {
      "cell_type": "code",
      "source": [
        "print(\"shivam \" in my_dict)"
      ],
      "metadata": {
        "colab": {
          "base_uri": "https://localhost:8080/"
        },
        "id": "I5DV1k6ooHgf",
        "outputId": "b169ddbb-d2ff-4054-e0ef-a8c8f522e770"
      },
      "execution_count": null,
      "outputs": [
        {
          "output_type": "stream",
          "name": "stdout",
          "text": [
            "False\n"
          ]
        }
      ]
    },
    {
      "cell_type": "markdown",
      "source": [
        "Q 15 Can you modify the elements of a tuple? Explain why or why not ?\n",
        "\n",
        "Answer -\n",
        "\n",
        "- No, you cannot modify the elements of a tuple in Python — because tuples are immutable.\n",
        "\n"
      ],
      "metadata": {
        "id": "RMfJmar-oy7X"
      }
    },
    {
      "cell_type": "code",
      "source": [
        "my_tuple = (10, 20, 30)\n",
        "my_tuple[1] = 99"
      ],
      "metadata": {
        "colab": {
          "base_uri": "https://localhost:8080/",
          "height": 159
        },
        "id": "ULfT5OpmpDHG",
        "outputId": "b05e4863-49cb-4933-d225-510217745f6e"
      },
      "execution_count": null,
      "outputs": [
        {
          "output_type": "error",
          "ename": "TypeError",
          "evalue": "'tuple' object does not support item assignment",
          "traceback": [
            "\u001b[0;31m---------------------------------------------------------------------------\u001b[0m",
            "\u001b[0;31mTypeError\u001b[0m                                 Traceback (most recent call last)",
            "\u001b[0;32m/tmp/ipython-input-14-1923602620.py\u001b[0m in \u001b[0;36m<cell line: 0>\u001b[0;34m()\u001b[0m\n\u001b[1;32m      1\u001b[0m \u001b[0mmy_tuple\u001b[0m \u001b[0;34m=\u001b[0m \u001b[0;34m(\u001b[0m\u001b[0;36m10\u001b[0m\u001b[0;34m,\u001b[0m \u001b[0;36m20\u001b[0m\u001b[0;34m,\u001b[0m \u001b[0;36m30\u001b[0m\u001b[0;34m)\u001b[0m\u001b[0;34m\u001b[0m\u001b[0;34m\u001b[0m\u001b[0m\n\u001b[0;32m----> 2\u001b[0;31m \u001b[0mmy_tuple\u001b[0m\u001b[0;34m[\u001b[0m\u001b[0;36m1\u001b[0m\u001b[0;34m]\u001b[0m \u001b[0;34m=\u001b[0m \u001b[0;36m99\u001b[0m\u001b[0;34m\u001b[0m\u001b[0;34m\u001b[0m\u001b[0m\n\u001b[0m",
            "\u001b[0;31mTypeError\u001b[0m: 'tuple' object does not support item assignment"
          ]
        }
      ]
    },
    {
      "cell_type": "markdown",
      "source": [
        "Q 16 - What is a nested dictionary, and give an example of its use case ?\n",
        "\n",
        "Answer -\n",
        "\n",
        "- A nested dictionary is a dictionary inside another dictionary — it allows you to store complex, hierarchical data in a structured way."
      ],
      "metadata": {
        "id": "fiWdQmSZpJ9K"
      }
    },
    {
      "cell_type": "code",
      "source": [
        "student_info = {\"101\": {\"name\": \"Shivam\", \"age\": 21,\"courses\": [\"Pharmacy\", \"Python\"] },\n",
        "    \"102\": {\"name\": \"Aarav\",\"age\": 22,\"courses\": [\"Pharmacy\", \"Excel\"] }}\n"
      ],
      "metadata": {
        "id": "UGzb_50FpOgi"
      },
      "execution_count": null,
      "outputs": []
    },
    {
      "cell_type": "code",
      "source": [
        "print(student_info[\"101\"][\"name\"])\n",
        "print(student_info[\"102\"][\"courses\"])\n"
      ],
      "metadata": {
        "colab": {
          "base_uri": "https://localhost:8080/"
        },
        "id": "y8wUop14pclU",
        "outputId": "a4a63d29-0f4a-4655-8435-a68523f073e0"
      },
      "execution_count": null,
      "outputs": [
        {
          "output_type": "stream",
          "name": "stdout",
          "text": [
            "Shivam\n",
            "['Pharmacy', 'Excel']\n"
          ]
        }
      ]
    },
    {
      "cell_type": "markdown",
      "source": [
        "Q17 Describe the time complexity of accessing elements in a dictionary ?\n",
        "\n",
        "Answer -\n",
        "\n"
      ],
      "metadata": {
        "id": "3YPniBenp0Lk"
      }
    },
    {
      "cell_type": "markdown",
      "source": [
        "Q  18 In what situations are lists preferred over dictionaries ?\n",
        "\n",
        "Answer -\n",
        "\n",
        "- Useful when processing items in the exact order they were added.\n",
        "- You want to access elements using numeric positions.\n",
        "- Unlike dictionaries, list elements can repeat.\n",
        "- Ideal when duplicates are needed (e.g., counting votes, shopping items)."
      ],
      "metadata": {
        "id": "oBh23fl7qEEG"
      }
    },
    {
      "cell_type": "code",
      "source": [
        "# example of list\n",
        "\n",
        "my_list = [  \"pw skills \" , \" shivam \" , \" sodhani\"]\n",
        "my_list.append(\"rahul\")\n",
        "print(my_list)"
      ],
      "metadata": {
        "colab": {
          "base_uri": "https://localhost:8080/"
        },
        "id": "6EzLOy31qDNh",
        "outputId": "9b232e16-05ca-4838-f4a0-ca828e2c28ae"
      },
      "execution_count": null,
      "outputs": [
        {
          "output_type": "stream",
          "name": "stdout",
          "text": [
            "['pw skills ', ' shivam ', ' sodhani', 'rahul']\n"
          ]
        }
      ]
    },
    {
      "cell_type": "code",
      "source": [
        "# examples of dict\n",
        "\n",
        "my_dict = {\"name\": \"Shivam\", \"age\": 21, \"course\": \"Pharm.D\"}\n",
        "print(student[\"course\"])"
      ],
      "metadata": {
        "colab": {
          "base_uri": "https://localhost:8080/"
        },
        "id": "2bYkLq0qqYGh",
        "outputId": "92e56011-72ed-418e-c300-9cb98963f373"
      },
      "execution_count": null,
      "outputs": [
        {
          "output_type": "stream",
          "name": "stdout",
          "text": [
            "Pharm.D\n"
          ]
        }
      ]
    },
    {
      "cell_type": "code",
      "source": [
        "type(my_dict)"
      ],
      "metadata": {
        "colab": {
          "base_uri": "https://localhost:8080/"
        },
        "id": "rZvGSq3oqthl",
        "outputId": "0b459ab0-9d96-40ff-e381-e75586a9da06"
      },
      "execution_count": null,
      "outputs": [
        {
          "output_type": "execute_result",
          "data": {
            "text/plain": [
              "dict"
            ]
          },
          "metadata": {},
          "execution_count": 23
        }
      ]
    },
    {
      "cell_type": "code",
      "source": [
        "my_dict.append(\"rahul\")"
      ],
      "metadata": {
        "colab": {
          "base_uri": "https://localhost:8080/",
          "height": 141
        },
        "id": "Lg73rZXPrBg-",
        "outputId": "98506198-df0c-4184-aca9-7c5b6eb22858"
      },
      "execution_count": null,
      "outputs": [
        {
          "output_type": "error",
          "ename": "AttributeError",
          "evalue": "'dict' object has no attribute 'append'",
          "traceback": [
            "\u001b[0;31m---------------------------------------------------------------------------\u001b[0m",
            "\u001b[0;31mAttributeError\u001b[0m                            Traceback (most recent call last)",
            "\u001b[0;32m/tmp/ipython-input-24-3927538292.py\u001b[0m in \u001b[0;36m<cell line: 0>\u001b[0;34m()\u001b[0m\n\u001b[0;32m----> 1\u001b[0;31m \u001b[0mmy_dict\u001b[0m\u001b[0;34m.\u001b[0m\u001b[0mappend\u001b[0m\u001b[0;34m(\u001b[0m\u001b[0;34m\"rahul\"\u001b[0m\u001b[0;34m)\u001b[0m\u001b[0;34m\u001b[0m\u001b[0;34m\u001b[0m\u001b[0m\n\u001b[0m",
            "\u001b[0;31mAttributeError\u001b[0m: 'dict' object has no attribute 'append'"
          ]
        }
      ]
    },
    {
      "cell_type": "markdown",
      "source": [
        "Q19 - Why are dictionaries considered unordered, and how does that affect data retrieval ?\n",
        "\n",
        "Answer -\n",
        "\n",
        "- They stored key-value pairs using a hashing mechanism, not in the order you inserted them.\n",
        "\n",
        "- The internal structure was optimized for fast access, not maintaining insertion order.\n",
        "\n",
        "- So when you iterated over a dictionary, the order of elements could appear random or inconsistent."
      ],
      "metadata": {
        "id": "J7bgolHfro74"
      }
    },
    {
      "cell_type": "code",
      "source": [
        "# examples of dict\n",
        "\n",
        "my_dict = {\"name\": \"Shivam\", \"age\": 21, \"course\": \"Pharm.D\"}\n",
        "print(my_dict[\"name\"])"
      ],
      "metadata": {
        "colab": {
          "base_uri": "https://localhost:8080/"
        },
        "id": "-2GGP6TgsV1G",
        "outputId": "e3f8a8c7-7a4f-4848-ab53-f55e45e43562"
      },
      "execution_count": null,
      "outputs": [
        {
          "output_type": "stream",
          "name": "stdout",
          "text": [
            "Shivam\n"
          ]
        }
      ]
    },
    {
      "cell_type": "code",
      "source": [
        "for key in my_dict:\n",
        "   print(key)"
      ],
      "metadata": {
        "colab": {
          "base_uri": "https://localhost:8080/"
        },
        "id": "oPNcNCvJbsqZ",
        "outputId": "b53f5d49-189c-46bd-8e2d-f21d367dbedd"
      },
      "execution_count": null,
      "outputs": [
        {
          "output_type": "stream",
          "name": "stdout",
          "text": [
            "name\n",
            "age\n",
            "course\n"
          ]
        }
      ]
    },
    {
      "cell_type": "markdown",
      "source": [
        "Q 20  Explain the difference between a list and a dictionary in terms of data retrieval?\n",
        "\n",
        "Answer -\n",
        "\n",
        "A list retrieves data using a numeric index (e.g., my_list[0]), meaning you access elements based on their position. A dictionary retrieves data using a unique key (e.g., my_dict[\"name\"]), allowing for faster and more meaningful access. Lists are best when order matters, while dictionaries are ideal when you want to label and quickly retrieve data using names"
      ],
      "metadata": {
        "id": "B0m6Q-7Ob_mp"
      }
    },
    {
      "cell_type": "code",
      "source": [
        "# List example\n",
        "fruits = [\"apple\", \"banana\", \"cherry\"]\n",
        "print(fruits[1])\n"
      ],
      "metadata": {
        "colab": {
          "base_uri": "https://localhost:8080/"
        },
        "id": "dEx0X2FLcNLn",
        "outputId": "b7db0f79-f46f-43f5-f438-422b5dc53033"
      },
      "execution_count": null,
      "outputs": [
        {
          "output_type": "stream",
          "name": "stdout",
          "text": [
            "banana\n"
          ]
        }
      ]
    },
    {
      "cell_type": "code",
      "source": [
        "# Dictionary example\n",
        "person = {\"name\": \"Shivam\", \"age\": 21}\n",
        "print(person[\"name\"])"
      ],
      "metadata": {
        "colab": {
          "base_uri": "https://localhost:8080/"
        },
        "id": "6-538BwhcRHb",
        "outputId": "416cdc78-faae-481b-80cf-25c5a1ee252b"
      },
      "execution_count": null,
      "outputs": [
        {
          "output_type": "stream",
          "name": "stdout",
          "text": [
            "Shivam\n"
          ]
        }
      ]
    },
    {
      "cell_type": "markdown",
      "source": [
        "**PRACTICAL QUESTIONS**"
      ],
      "metadata": {
        "id": "JJN0DdY5MuUr"
      }
    },
    {
      "cell_type": "markdown",
      "source": [
        "Q1 Write a code to create a string with your name and print it ?"
      ],
      "metadata": {
        "id": "VSNuqEhmM4L3"
      }
    },
    {
      "cell_type": "code",
      "source": [
        "name = \"shivam sodhani\"\n",
        "print(name)"
      ],
      "metadata": {
        "colab": {
          "base_uri": "https://localhost:8080/"
        },
        "id": "5OOKUcpdM8y_",
        "outputId": "af67be2a-9afa-4c25-fb00-8f53aa229cc2"
      },
      "execution_count": null,
      "outputs": [
        {
          "output_type": "stream",
          "name": "stdout",
          "text": [
            "shivam sodhani\n"
          ]
        }
      ]
    },
    {
      "cell_type": "code",
      "source": [
        "type(name)"
      ],
      "metadata": {
        "colab": {
          "base_uri": "https://localhost:8080/"
        },
        "id": "5IFiJwMnNHI1",
        "outputId": "0ee3e608-a620-4e09-9171-8b48741805c0"
      },
      "execution_count": null,
      "outputs": [
        {
          "output_type": "execute_result",
          "data": {
            "text/plain": [
              "str"
            ]
          },
          "metadata": {},
          "execution_count": 3
        }
      ]
    },
    {
      "cell_type": "code",
      "source": [
        "my_name = \" shivam sodhani\"\n",
        "print(\"my name is \", my_name)"
      ],
      "metadata": {
        "colab": {
          "base_uri": "https://localhost:8080/"
        },
        "id": "u1lIEdnQNTpr",
        "outputId": "ea8122ce-583b-4e22-ebf2-529c572a82f2"
      },
      "execution_count": null,
      "outputs": [
        {
          "output_type": "stream",
          "name": "stdout",
          "text": [
            "my name is   shivam sodhani\n"
          ]
        }
      ]
    },
    {
      "cell_type": "markdown",
      "source": [
        "Q2  Write a code to find the length of the string \"Hello World\" ?\n",
        "\n",
        "Answer -"
      ],
      "metadata": {
        "id": "sxDtLhxzNfXh"
      }
    },
    {
      "cell_type": "code",
      "source": [
        "print(\"Hello World\")"
      ],
      "metadata": {
        "colab": {
          "base_uri": "https://localhost:8080/"
        },
        "id": "O21UwUUKNfDe",
        "outputId": "98e7b71d-2efc-4b32-8e0f-f80cef927610"
      },
      "execution_count": null,
      "outputs": [
        {
          "output_type": "stream",
          "name": "stdout",
          "text": [
            "Hello World\n"
          ]
        }
      ]
    },
    {
      "cell_type": "code",
      "source": [
        "len(\"Hello World\")"
      ],
      "metadata": {
        "colab": {
          "base_uri": "https://localhost:8080/"
        },
        "id": "eKfPe2aTN_Nt",
        "outputId": "2de04df2-894a-443b-9dc6-dd7fcda91b61"
      },
      "execution_count": null,
      "outputs": [
        {
          "output_type": "execute_result",
          "data": {
            "text/plain": [
              "11"
            ]
          },
          "metadata": {},
          "execution_count": 7
        }
      ]
    },
    {
      "cell_type": "markdown",
      "source": [
        "Q3 Write a code to slice the first 3 characters from the string \"Python Programming\"?\n",
        "\n",
        "Answer -\n"
      ],
      "metadata": {
        "id": "p_AsSjozOEC6"
      }
    },
    {
      "cell_type": "code",
      "source": [
        "my_string = \"Python Programming\""
      ],
      "metadata": {
        "id": "jOKf2ixOOKwO"
      },
      "execution_count": null,
      "outputs": []
    },
    {
      "cell_type": "code",
      "source": [
        "type(my_string)"
      ],
      "metadata": {
        "colab": {
          "base_uri": "https://localhost:8080/"
        },
        "id": "YXY1z4_ROR5N",
        "outputId": "2539a6bf-a3cb-4355-c058-6d449cf7f3de"
      },
      "execution_count": null,
      "outputs": [
        {
          "output_type": "execute_result",
          "data": {
            "text/plain": [
              "str"
            ]
          },
          "metadata": {},
          "execution_count": 12
        }
      ]
    },
    {
      "cell_type": "code",
      "source": [
        "first_three = my_string[:3]"
      ],
      "metadata": {
        "id": "XCRKyPjZOR8b"
      },
      "execution_count": null,
      "outputs": []
    },
    {
      "cell_type": "code",
      "source": [
        "print(\"first 3 characters \" , first_three)"
      ],
      "metadata": {
        "colab": {
          "base_uri": "https://localhost:8080/"
        },
        "id": "pmJZUzR8OR-m",
        "outputId": "bea94f83-50ec-451a-bad2-99ea9b3d568f"
      },
      "execution_count": null,
      "outputs": [
        {
          "output_type": "stream",
          "name": "stdout",
          "text": [
            "first 3 characters  Pyt\n"
          ]
        }
      ]
    },
    {
      "cell_type": "markdown",
      "source": [
        "Q 4 Write a code to convert the string \"hello\" to uppercase ?\n",
        "\n",
        "Answer -"
      ],
      "metadata": {
        "id": "wAIhr6GrO9Um"
      }
    },
    {
      "cell_type": "code",
      "source": [
        "my_string = \"hello \"\n",
        "my_string.upper()"
      ],
      "metadata": {
        "colab": {
          "base_uri": "https://localhost:8080/",
          "height": 35
        },
        "id": "yKWnmqn3OSBL",
        "outputId": "c2bb1f96-5fbd-4a9c-b245-991201293afe"
      },
      "execution_count": null,
      "outputs": [
        {
          "output_type": "execute_result",
          "data": {
            "text/plain": [
              "'HELLO '"
            ],
            "application/vnd.google.colaboratory.intrinsic+json": {
              "type": "string"
            }
          },
          "metadata": {},
          "execution_count": 19
        }
      ]
    },
    {
      "cell_type": "markdown",
      "source": [
        "Q 5 Write a code to replace the word \"apple\" with \"orange\" in the string \"I like apple\" ?\n",
        "\n"
      ],
      "metadata": {
        "id": "VjRUhgM5PPv-"
      }
    },
    {
      "cell_type": "code",
      "source": [
        "my_string = \"I like apple\"\n",
        "my_string.replace(\"apple\" , \"orange\")"
      ],
      "metadata": {
        "colab": {
          "base_uri": "https://localhost:8080/",
          "height": 35
        },
        "id": "C0HBpXsUOSDx",
        "outputId": "8ac13a49-e7fe-45ca-84bd-e9e4b8d5f6f3"
      },
      "execution_count": null,
      "outputs": [
        {
          "output_type": "execute_result",
          "data": {
            "text/plain": [
              "'I like orange'"
            ],
            "application/vnd.google.colaboratory.intrinsic+json": {
              "type": "string"
            }
          },
          "metadata": {},
          "execution_count": 20
        }
      ]
    },
    {
      "cell_type": "markdown",
      "source": [
        "Q 6 Write a code to create a list with numbers 1 to 5 and print it ?\n",
        "\n",
        "Answer -"
      ],
      "metadata": {
        "id": "VaSAm9aGPfsi"
      }
    },
    {
      "cell_type": "code",
      "source": [
        "numbers  = [1 ,2 , 3, 4,  5 ]\n",
        "print(\"list of numbers \", numbers)"
      ],
      "metadata": {
        "colab": {
          "base_uri": "https://localhost:8080/"
        },
        "id": "IlqFxKWfOSF2",
        "outputId": "42580c54-56b3-4f2b-d68e-1f7c404ea38b"
      },
      "execution_count": null,
      "outputs": [
        {
          "output_type": "stream",
          "name": "stdout",
          "text": [
            "list of numbers  [1, 2, 3, 4, 5]\n"
          ]
        }
      ]
    },
    {
      "cell_type": "markdown",
      "source": [
        "Q 7 Write a code to append the number 10 to the list [1, 2, 3, 4 ]\n",
        "\n",
        "Answer -"
      ],
      "metadata": {
        "id": "V5U9rxOaQMMT"
      }
    },
    {
      "cell_type": "code",
      "source": [
        "my_list = [ 1 , 2 , 3 , 4]\n",
        "my_list.append(10)\n",
        "print(my_list)"
      ],
      "metadata": {
        "colab": {
          "base_uri": "https://localhost:8080/"
        },
        "id": "i2ZukFKkQpR7",
        "outputId": "911d6592-6e6f-4554-8f79-bbf5dae4c8fc"
      },
      "execution_count": null,
      "outputs": [
        {
          "output_type": "stream",
          "name": "stdout",
          "text": [
            "[1, 2, 3, 4, 10]\n"
          ]
        }
      ]
    },
    {
      "cell_type": "markdown",
      "source": [
        "Q 8  Write a code to remove the number 3 from the list [1, 2, 3, 4, 5]\n",
        "\n",
        "Answer -"
      ],
      "metadata": {
        "id": "VWcYaac5Q3z-"
      }
    },
    {
      "cell_type": "code",
      "source": [
        "my_list = [1, 2, 3, 4 ,5 ]\n",
        "my_list.remove(3)\n",
        "print(my_list)"
      ],
      "metadata": {
        "colab": {
          "base_uri": "https://localhost:8080/"
        },
        "id": "DXoyh1bfQ1ar",
        "outputId": "05796d41-9cfd-4b1e-9f4a-5986665ba053"
      },
      "execution_count": null,
      "outputs": [
        {
          "output_type": "stream",
          "name": "stdout",
          "text": [
            "[1, 2, 4, 5]\n"
          ]
        }
      ]
    },
    {
      "cell_type": "markdown",
      "source": [
        "Q 9 Write a code to access the second element in the list ['a', 'b', 'c', 'd'] ?\n",
        "\n",
        "Answer -"
      ],
      "metadata": {
        "id": "tP9R3OuPRGSp"
      }
    },
    {
      "cell_type": "code",
      "source": [
        "my_list= [\"a\",\"b\",\"c\",\"d\"]\n",
        "type(my_list)"
      ],
      "metadata": {
        "colab": {
          "base_uri": "https://localhost:8080/"
        },
        "id": "bCfmydvIRMkZ",
        "outputId": "ef6ccb70-788e-4cae-8c4a-c1352aa0fd05"
      },
      "execution_count": null,
      "outputs": [
        {
          "output_type": "execute_result",
          "data": {
            "text/plain": [
              "list"
            ]
          },
          "metadata": {},
          "execution_count": 31
        }
      ]
    },
    {
      "cell_type": "code",
      "source": [
        "second_element = my_list[1]"
      ],
      "metadata": {
        "id": "gdc-zjhxRbyC"
      },
      "execution_count": null,
      "outputs": []
    },
    {
      "cell_type": "code",
      "source": [
        "print(\"second element :\", second_element)"
      ],
      "metadata": {
        "colab": {
          "base_uri": "https://localhost:8080/"
        },
        "id": "AHT14qiaR4_E",
        "outputId": "f69d3e6a-0368-4abd-b5aa-d9fd199820a2"
      },
      "execution_count": null,
      "outputs": [
        {
          "output_type": "stream",
          "name": "stdout",
          "text": [
            "second element : b\n"
          ]
        }
      ]
    },
    {
      "cell_type": "markdown",
      "source": [
        "Q 10 Write a code to reverse the list [10, 20, 30, 40, 50].\n",
        "\n",
        "Answer"
      ],
      "metadata": {
        "id": "I6xAYRgBSFT4"
      }
    },
    {
      "cell_type": "code",
      "source": [
        "my_list = [10, 20, 30, 40, 50]\n",
        "my_list.reverse()\n",
        "print(my_list)"
      ],
      "metadata": {
        "colab": {
          "base_uri": "https://localhost:8080/"
        },
        "id": "2J9q0XSMR5B0",
        "outputId": "7fd6a5fd-898a-4ea7-b279-02d527dc8a49"
      },
      "execution_count": null,
      "outputs": [
        {
          "output_type": "stream",
          "name": "stdout",
          "text": [
            "[50, 40, 30, 20, 10]\n"
          ]
        }
      ]
    },
    {
      "cell_type": "markdown",
      "source": [
        " Q 11 Write a code to create a tuple with the elements 100, 200, 300 and print it.\n",
        "\n",
        " Answer -"
      ],
      "metadata": {
        "id": "i3wttH8dSXS2"
      }
    },
    {
      "cell_type": "code",
      "source": [
        "my_tuple = (100, 200, 300)\n",
        "print(my_tuple)"
      ],
      "metadata": {
        "colab": {
          "base_uri": "https://localhost:8080/"
        },
        "id": "dhr4ED_sR5D7",
        "outputId": "401c6a07-dd13-414e-dea8-23c11ee82880"
      },
      "execution_count": null,
      "outputs": [
        {
          "output_type": "stream",
          "name": "stdout",
          "text": [
            "(100, 200, 300)\n"
          ]
        }
      ]
    },
    {
      "cell_type": "markdown",
      "source": [
        "Q 12  Write a code to access the second-to-last element of the tuple ('red', 'green', 'blue', 'yellow )\n",
        "\n",
        "Answer ="
      ],
      "metadata": {
        "id": "mb4RCHN1Si49"
      }
    },
    {
      "cell_type": "code",
      "source": [
        "my_tuple = ('red', 'green', 'blue', 'yellow')\n",
        "second_to_last_element = my_tuple[-2]\n",
        "print(second_to_last_element)"
      ],
      "metadata": {
        "colab": {
          "base_uri": "https://localhost:8080/"
        },
        "id": "mobKpjWRR5Ge",
        "outputId": "ba3d9389-94ba-4b5b-83ac-e49b7a5a5cc7"
      },
      "execution_count": null,
      "outputs": [
        {
          "output_type": "stream",
          "name": "stdout",
          "text": [
            "blue\n"
          ]
        }
      ]
    },
    {
      "cell_type": "markdown",
      "source": [
        " Q 13 Write a code to find the minimum number in the tuple (10, 20, 5, 15).\n",
        "\n",
        " Answer =\n"
      ],
      "metadata": {
        "id": "KfRUHugBS3RW"
      }
    },
    {
      "cell_type": "code",
      "source": [
        "numbers = ( 10 , 20 , 5 , 15)\n",
        "min_number = min(numbers)\n",
        "print(\"minimum numbers :\", min_number)"
      ],
      "metadata": {
        "colab": {
          "base_uri": "https://localhost:8080/"
        },
        "id": "bjquwbmhS932",
        "outputId": "9fe874c9-9b09-43ff-ba7a-4cac14db8371"
      },
      "execution_count": null,
      "outputs": [
        {
          "output_type": "stream",
          "name": "stdout",
          "text": [
            "minimum numbers : 5\n"
          ]
        }
      ]
    },
    {
      "cell_type": "markdown",
      "source": [
        "Q14  Write a code to find the index of the element \"cat\" in the tuple ('dog', 'cat', 'rabbit').\n",
        "\n",
        "Answer =\n"
      ],
      "metadata": {
        "id": "IAVONSM6T2r7"
      }
    },
    {
      "cell_type": "code",
      "source": [
        "animals = ('dog', 'cat', 'rabbit')\n",
        "cat_index = animals.index('cat')\n",
        "print(\"Index of 'cat':\", cat_index)"
      ],
      "metadata": {
        "colab": {
          "base_uri": "https://localhost:8080/"
        },
        "id": "7OftL5zET7is",
        "outputId": "945e4fe9-dceb-4833-f4d5-20a639e8c921"
      },
      "execution_count": null,
      "outputs": [
        {
          "output_type": "stream",
          "name": "stdout",
          "text": [
            "Index of 'cat': 1\n"
          ]
        }
      ]
    },
    {
      "cell_type": "markdown",
      "source": [
        "Q15  Write a code to create a tuple containing three different fruits and check if \"kiwi\" is in ?\n",
        "\n",
        "Answer ="
      ],
      "metadata": {
        "id": "i_uEtieXUCqv"
      }
    },
    {
      "cell_type": "code",
      "source": [
        "fruits = ('apple', 'banana', 'orange')\n",
        "is_kiwi_in_tuple = 'kiwi' in fruits\n",
        "print(\"Is 'kiwi' in the tuple?\", is_kiwi_in_tuple)"
      ],
      "metadata": {
        "colab": {
          "base_uri": "https://localhost:8080/"
        },
        "id": "ARZgY9WpUM3Q",
        "outputId": "2e48c7ec-a727-4e4d-eb00-5e5a22777e0b"
      },
      "execution_count": null,
      "outputs": [
        {
          "output_type": "stream",
          "name": "stdout",
          "text": [
            "Is 'kiwi' in the tuple? False\n"
          ]
        }
      ]
    },
    {
      "cell_type": "code",
      "source": [
        "fruits = ('apple', 'kiwi', 'orange')\n",
        "is_kiwi_in_tuple = 'kiwi' in fruits\n",
        "print(\"Is 'kiwi' in the tuple?\", is_kiwi_in_tuple)"
      ],
      "metadata": {
        "colab": {
          "base_uri": "https://localhost:8080/"
        },
        "id": "nc4jAhLiUe0M",
        "outputId": "5ef08dd9-3149-4a49-84a7-3dd53ea71e19"
      },
      "execution_count": null,
      "outputs": [
        {
          "output_type": "stream",
          "name": "stdout",
          "text": [
            "Is 'kiwi' in the tuple? True\n"
          ]
        }
      ]
    },
    {
      "cell_type": "markdown",
      "source": [
        "Q 16  Write a code to create a set with the elements 'a', 'b', 'c' and print it.\n",
        "\n",
        "Answer -\n",
        "\n"
      ],
      "metadata": {
        "id": "vJB3RTVXUkoV"
      }
    },
    {
      "cell_type": "code",
      "source": [
        "my_set = ('a', 'b', 'c')\n",
        "print(my_set)"
      ],
      "metadata": {
        "colab": {
          "base_uri": "https://localhost:8080/"
        },
        "id": "0bGtVfpFUyUF",
        "outputId": "98c76769-fca5-4bbb-9689-2f835d2300a3"
      },
      "execution_count": null,
      "outputs": [
        {
          "output_type": "stream",
          "name": "stdout",
          "text": [
            "('a', 'b', 'c')\n"
          ]
        }
      ]
    },
    {
      "cell_type": "markdown",
      "source": [
        "Q 17  Write a code to clear all elements from the set {1, 2, 3, 4, 5}.\n",
        "\n",
        "Answer =\n",
        "\n"
      ],
      "metadata": {
        "id": "UImT2hkDU7qU"
      }
    },
    {
      "cell_type": "code",
      "source": [
        "my_set= {1, 2, 3, 4, 5}\n",
        "my_set.clear()\n",
        "print(my_set)"
      ],
      "metadata": {
        "colab": {
          "base_uri": "https://localhost:8080/"
        },
        "id": "h-r4P8NOVA15",
        "outputId": "6d61c258-0a66-4a26-d7b4-51fa8cd3c636"
      },
      "execution_count": null,
      "outputs": [
        {
          "output_type": "stream",
          "name": "stdout",
          "text": [
            "set()\n"
          ]
        }
      ]
    },
    {
      "cell_type": "markdown",
      "source": [
        "Q18 Write a code to remove the element 4 from the set {1, 2, 3, 4}.\n",
        "\n",
        "Answer"
      ],
      "metadata": {
        "id": "DUP7FFfBVHbJ"
      }
    },
    {
      "cell_type": "code",
      "source": [
        "my_set = {1 , 2, 3 ,4 }\n",
        "my_set.remove(4)\n",
        "print(my_set)"
      ],
      "metadata": {
        "colab": {
          "base_uri": "https://localhost:8080/"
        },
        "id": "G-dPyCPWVMYt",
        "outputId": "d4f1b0aa-b696-4906-8368-5638de946bb9"
      },
      "execution_count": null,
      "outputs": [
        {
          "output_type": "stream",
          "name": "stdout",
          "text": [
            "{1, 2, 3}\n"
          ]
        }
      ]
    },
    {
      "cell_type": "markdown",
      "source": [
        "Q 19  Write a code to find the union of two sets {1, 2, 3} and {3, 4, 5}.\n",
        "\n",
        "Answer -\n"
      ],
      "metadata": {
        "id": "xlgMl3n8VW0f"
      }
    },
    {
      "cell_type": "code",
      "source": [
        "my_set1 = {1, 2, 3}\n",
        "my_set2 = {3, 4, 5}\n",
        "union_set = my_set.union(my_sets2)\n",
        "print(union_set)"
      ],
      "metadata": {
        "colab": {
          "base_uri": "https://localhost:8080/"
        },
        "id": "r6tduozDVcEz",
        "outputId": "a10d5067-33f7-4cd3-86fc-2cee4675a2fe"
      },
      "execution_count": null,
      "outputs": [
        {
          "output_type": "stream",
          "name": "stdout",
          "text": [
            "{1, 2, 3, 4, 5}\n"
          ]
        }
      ]
    },
    {
      "cell_type": "markdown",
      "source": [
        "Q 20   Write a code to find the intersection of two sets {1, 2, 3} and {2, 3, 4}.\n",
        "\n",
        "Answer -\n",
        "\n"
      ],
      "metadata": {
        "id": "CFnIWe0XVrQ2"
      }
    },
    {
      "cell_type": "code",
      "source": [
        "my_set1 = {1 ,2 ,3 }\n",
        "my_set2 = {2 , 3, 4}\n",
        "intersection_set = my_set1.intersection(my_set2)\n",
        "print(intersection_set)"
      ],
      "metadata": {
        "colab": {
          "base_uri": "https://localhost:8080/"
        },
        "id": "byESqHZ4VyyL",
        "outputId": "6fded1b9-c898-4b0b-dc49-ac14a904ffa5"
      },
      "execution_count": null,
      "outputs": [
        {
          "output_type": "stream",
          "name": "stdout",
          "text": [
            "{2, 3}\n"
          ]
        }
      ]
    },
    {
      "cell_type": "markdown",
      "source": [
        "Q21  Write a code to create a dictionary with the keys \"name\", \"age\", and \"city\", and print it.\n",
        "\n",
        "Answer ="
      ],
      "metadata": {
        "id": "m9JyqrvMWD0a"
      }
    },
    {
      "cell_type": "code",
      "source": [
        "my_dict = {\"name\": \"Shivam\", \"age\": 21, \"city\": \"New Delhi\"}\n",
        "print(my_dict)"
      ],
      "metadata": {
        "colab": {
          "base_uri": "https://localhost:8080/"
        },
        "id": "veUdW5x_WKDK",
        "outputId": "2adfa89e-f163-4963-eb28-ded57d917c8c"
      },
      "execution_count": null,
      "outputs": [
        {
          "output_type": "stream",
          "name": "stdout",
          "text": [
            "{'name': 'Shivam', 'age': 21, 'city': 'New Delhi'}\n"
          ]
        }
      ]
    },
    {
      "cell_type": "code",
      "source": [
        "type(my_dict)"
      ],
      "metadata": {
        "colab": {
          "base_uri": "https://localhost:8080/"
        },
        "id": "R5Cu44JAWRkp",
        "outputId": "b0c42f68-9402-4d72-e19a-7bb442ade718"
      },
      "execution_count": null,
      "outputs": [
        {
          "output_type": "execute_result",
          "data": {
            "text/plain": [
              "dict"
            ]
          },
          "metadata": {},
          "execution_count": 60
        }
      ]
    },
    {
      "cell_type": "markdown",
      "source": [
        "Q 22 Write a code to add a new key-value pair \"country\": \"USA\" to the dictionary {'name': 'John', 'age': 25}.\n",
        "\n",
        "Answer ="
      ],
      "metadata": {
        "id": "_ahOY9QvWQju"
      }
    },
    {
      "cell_type": "code",
      "source": [
        "my_dict = {'name': 'John', 'age': 25}\n",
        "my_dict[\"country\"] = \"USA\"\n",
        "print(my_dict)\n"
      ],
      "metadata": {
        "colab": {
          "base_uri": "https://localhost:8080/"
        },
        "id": "W3oczBDxWagE",
        "outputId": "7c95ee23-8207-4150-f467-21f849da6d0f"
      },
      "execution_count": null,
      "outputs": [
        {
          "output_type": "stream",
          "name": "stdout",
          "text": [
            "{'name': 'John', 'age': 25, 'country': 'USA'}\n"
          ]
        }
      ]
    },
    {
      "cell_type": "markdown",
      "source": [
        "Q 23 . Write a code to access the value associated with the key \"name\" in the dictionary {'name': 'Alice', 'age': 30}.\n",
        "\n",
        "Answer =\n"
      ],
      "metadata": {
        "id": "1UCm684nWp1K"
      }
    },
    {
      "cell_type": "code",
      "source": [
        "my_dict = {'name': 'Alice', 'age': 30}\n",
        "name_value = my_dict[\"name\"]\n",
        "print(name_value)"
      ],
      "metadata": {
        "colab": {
          "base_uri": "https://localhost:8080/"
        },
        "id": "9FoHLsqBXJ9a",
        "outputId": "77f092d4-880a-434c-f64b-53b0c351b221"
      },
      "execution_count": null,
      "outputs": [
        {
          "output_type": "stream",
          "name": "stdout",
          "text": [
            "Alice\n"
          ]
        }
      ]
    },
    {
      "cell_type": "markdown",
      "source": [
        "Q 24 Write a code to remove the key \"age\" from the dictionary {'name': 'Bob', 'age': 22, 'city': 'New York'}.\n",
        "\n",
        "Answer =\n",
        "\n"
      ],
      "metadata": {
        "id": "nh3_qoaIXcp7"
      }
    },
    {
      "cell_type": "code",
      "source": [
        "my_dict = {'name': 'Bob', 'age': 22, 'city': 'New York'}\n",
        "del my_dict[\"age\"]\n",
        "print(my_dict)\n"
      ],
      "metadata": {
        "colab": {
          "base_uri": "https://localhost:8080/"
        },
        "id": "XClDoW3hXiHR",
        "outputId": "28555e21-fbbf-4b66-efa7-24825d96b7ce"
      },
      "execution_count": null,
      "outputs": [
        {
          "output_type": "stream",
          "name": "stdout",
          "text": [
            "{'name': 'Bob', 'city': 'New York'}\n"
          ]
        }
      ]
    },
    {
      "cell_type": "markdown",
      "source": [
        "Q 25   Write a code to check if the key \"city\" exists in the dictionary {'name': 'Alice', 'city': 'Paris'}\n",
        "\n",
        "Answer ="
      ],
      "metadata": {
        "id": "aGMekO8iXs5N"
      }
    },
    {
      "cell_type": "code",
      "source": [
        "my_dict = {'name': 'Alice', 'city': 'Paris'}\n",
        "find = \"city\" in my_dict\n",
        "print(find)"
      ],
      "metadata": {
        "colab": {
          "base_uri": "https://localhost:8080/"
        },
        "id": "WnE3a6_AXym7",
        "outputId": "3043d2bf-d76f-4996-9827-5d8be7353b6e"
      },
      "execution_count": null,
      "outputs": [
        {
          "output_type": "stream",
          "name": "stdout",
          "text": [
            "True\n"
          ]
        }
      ]
    },
    {
      "cell_type": "markdown",
      "source": [
        "Q 26  Write a code to create a list, a tuple, and a dictionary, and print them all\n",
        "\n",
        "Answer"
      ],
      "metadata": {
        "id": "iQ3GdVARYSqH"
      }
    },
    {
      "cell_type": "code",
      "source": [
        "# Creating a list\n",
        "my_list = [1, 2, 3, 4, 5]\n",
        "\n",
        "# Creating a tuple\n",
        "my_tuple = ('a', 'b', 'c')\n",
        "\n",
        "# Creating a dictionary\n",
        "my_dict = {\"name\": \"Shivam\", \"age\": 21, \"course\": \"Pharm.D\"}\n",
        "\n",
        "# Printing them all\n",
        "print(\"List:\", my_list)\n",
        "print(\"Tuple:\", my_tuple)\n",
        "print(\"Dictionary:\", my_dict)\n"
      ],
      "metadata": {
        "colab": {
          "base_uri": "https://localhost:8080/"
        },
        "id": "yEri2wJtYXal",
        "outputId": "06d3d450-92f9-4aaf-803d-92fd9c8f9894"
      },
      "execution_count": null,
      "outputs": [
        {
          "output_type": "stream",
          "name": "stdout",
          "text": [
            "List: [1, 2, 3, 4, 5]\n",
            "Tuple: ('a', 'b', 'c')\n",
            "Dictionary: {'name': 'Shivam', 'age': 21, 'course': 'Pharm.D'}\n"
          ]
        }
      ]
    },
    {
      "cell_type": "markdown",
      "source": [
        "Q 27  Write a code to create a list of 5 random numbers between 1 and 100, sort it in ascending order, and print the\n",
        "result.(replaced)\n",
        "\n",
        "Answer -"
      ],
      "metadata": {
        "id": "z9BqUxMBYlGT"
      }
    },
    {
      "cell_type": "code",
      "source": [
        "import random\n",
        "\n",
        "random_numbers = [random.randint(1, 100) for _ in range(5)]\n",
        "random_numbers.sort()\n",
        "print(\"Sorted list of random numbers:\", random_numbers)\n"
      ],
      "metadata": {
        "colab": {
          "base_uri": "https://localhost:8080/"
        },
        "id": "IZQvtlrZZDjM",
        "outputId": "5a29fb60-12fb-4af5-ca7b-6ab84093097a"
      },
      "execution_count": null,
      "outputs": [
        {
          "output_type": "stream",
          "name": "stdout",
          "text": [
            "Sorted list of random numbers: [17, 36, 58, 90, 95]\n"
          ]
        }
      ]
    },
    {
      "cell_type": "markdown",
      "source": [
        "Q 28 Write a code to create a list with strings and print the element at the third index.\n",
        "\n",
        "Answer =\n",
        "\n"
      ],
      "metadata": {
        "id": "j-U0NeUWaIWD"
      }
    },
    {
      "cell_type": "code",
      "source": [
        "\n",
        "my_list = [\"apple\", \"banana\", \"cherry\", \"date\", \"elderberry\"]\n",
        "print(\"Element at index 3:\", my_list[3])\n"
      ],
      "metadata": {
        "colab": {
          "base_uri": "https://localhost:8080/"
        },
        "id": "WZ6clXx_aOsV",
        "outputId": "be2ffbad-84c4-40f6-8dff-28e99a1cb7fa"
      },
      "execution_count": null,
      "outputs": [
        {
          "output_type": "stream",
          "name": "stdout",
          "text": [
            "Element at index 3: date\n"
          ]
        }
      ]
    },
    {
      "cell_type": "markdown",
      "source": [
        "Q 29 Write a code to combine two dictionaries into one and print the result.\n",
        "\n",
        "Answer -\n",
        "\n"
      ],
      "metadata": {
        "id": "ys0qxppJaxhH"
      }
    },
    {
      "cell_type": "code",
      "source": [
        "my_dict1 = {\"a\": 1, \"b\": 2}\n",
        "my_dict2 = {\"c\": 3, \"d\": 4}\n",
        "combined_dict = {**my_dict1, **my_dict2}\n",
        "print(\"Combined dictionary:\", combined_dict)"
      ],
      "metadata": {
        "colab": {
          "base_uri": "https://localhost:8080/"
        },
        "id": "LCrP4sZsa7D2",
        "outputId": "af9ba62a-6449-48b5-8276-8ef4aadffafa"
      },
      "execution_count": null,
      "outputs": [
        {
          "output_type": "stream",
          "name": "stdout",
          "text": [
            "Combined dictionary: {'a': 1, 'b': 2, 'c': 3, 'd': 4}\n"
          ]
        }
      ]
    },
    {
      "cell_type": "markdown",
      "source": [
        "Q 30  Write a code to convert a list of strings into a set.\n",
        "\n",
        "Answer\n"
      ],
      "metadata": {
        "id": "lVtaqylMbEeH"
      }
    },
    {
      "cell_type": "code",
      "source": [
        "my_string = {  \"pw skills \" , \" shivam \" , \" sodhani\"}\n",
        "my_set = set(my_string)\n",
        "print(my_set)"
      ],
      "metadata": {
        "colab": {
          "base_uri": "https://localhost:8080/"
        },
        "id": "SdBmQSAmbQI1",
        "outputId": "9774bf2e-28c5-4090-8d7e-ded853e90d40"
      },
      "execution_count": null,
      "outputs": [
        {
          "output_type": "stream",
          "name": "stdout",
          "text": [
            "{' shivam ', 'pw skills ', ' sodhani'}\n"
          ]
        }
      ]
    },
    {
      "cell_type": "code",
      "source": [
        "type(my_string)"
      ],
      "metadata": {
        "colab": {
          "base_uri": "https://localhost:8080/"
        },
        "id": "p75LFnCpbXkN",
        "outputId": "dd0de96b-dfc5-41d1-8df2-6a4699648ce7"
      },
      "execution_count": null,
      "outputs": [
        {
          "output_type": "execute_result",
          "data": {
            "text/plain": [
              "set"
            ]
          },
          "metadata": {},
          "execution_count": 85
        }
      ]
    }
  ]
}